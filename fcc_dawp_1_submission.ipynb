{
 "cells": [
  {
   "cell_type": "markdown",
   "id": "840e3831-3657-42a2-97ae-b9e1f0f0b780",
   "metadata": {},
   "source": [
    "# Mean-Variance-Standard Deviation Calculator\n",
    "Free Code Camp \\\n",
    "Data Analysis with Python \\\n",
    "Assignment #1 \\\n",
    "Steve Reilly"
   ]
  },
  {
   "cell_type": "code",
   "execution_count": 143,
   "id": "658e10ab-a79c-4515-9164-030d4c53bd78",
   "metadata": {},
   "outputs": [],
   "source": [
    "import numpy as np\n",
    "\n",
    "def calculate(list):\n",
    "    if len(list) == 9:\n",
    "        a = np.array(list)\n",
    "        b = a.reshape((3,3))\n",
    "        print(\n",
    "            \"mean: \", np.mean(b, axis=0), ',', np.mean(b, axis=1), ',', np.mean(b), '\\n',\n",
    "            \"variance: \", np.var(b, axis=0), ',', np.var(b, axis=1), ',', np.var(b), '\\n',\n",
    "            \"standard deviation: \", np.std(b, axis=0), ',', np.std(b, axis=1), ',', np.std(b), '\\n',\n",
    "            \"max: \", np.max(b, axis=0), ',', np.max(b, axis=1), ',', np.max(b), '\\n',\n",
    "            \"min: \", np.min(b, axis=0), ',', np.min(b, axis=1), ',', np.mean(b), '\\n',\n",
    "            \"sum: \", np.sum(b, axis=0), ',', np.sum(b, axis=1), ',', np.sum(b), '\\n',\n",
    ")\n",
    "    else:\n",
    "        print(\"List must contain nine numbers.\")"
   ]
  },
  {
   "cell_type": "code",
   "execution_count": 146,
   "id": "bb7f2004-12f5-4ce3-b720-dc46de5d03a3",
   "metadata": {},
   "outputs": [
    {
     "name": "stdout",
     "output_type": "stream",
     "text": [
      "mean:  [4. 5. 6.] , [2. 5. 8.] , 5.0 \n",
      " variance:  [6. 6. 6.] , [0.66666667 0.66666667 0.66666667] , 6.666666666666667 \n",
      " standard deviation:  [2.44948974 2.44948974 2.44948974] , [0.81649658 0.81649658 0.81649658] , 2.581988897471611 \n",
      " max:  [7 8 9] , [3 6 9] , 9 \n",
      " min:  [1 2 3] , [1 4 7] , 5.0 \n",
      " sum:  [12 15 18] , [ 6 15 24] , 45 \n",
      "\n"
     ]
    }
   ],
   "source": [
    "calculate([1,2,3,4,5,6,7,8,9])"
   ]
  },
  {
   "cell_type": "code",
   "execution_count": 147,
   "id": "b4521263-ec94-4ad4-96e9-86b87349956c",
   "metadata": {},
   "outputs": [
    {
     "name": "stdout",
     "output_type": "stream",
     "text": [
      "List must contain nine numbers.\n"
     ]
    }
   ],
   "source": [
    "calculate ([1,2,3,4,5,6,7,8])"
   ]
  }
 ],
 "metadata": {
  "kernelspec": {
   "display_name": "Python 3 (ipykernel)",
   "language": "python",
   "name": "python3"
  },
  "language_info": {
   "codemirror_mode": {
    "name": "ipython",
    "version": 3
   },
   "file_extension": ".py",
   "mimetype": "text/x-python",
   "name": "python",
   "nbconvert_exporter": "python",
   "pygments_lexer": "ipython3",
   "version": "3.12.3"
  }
 },
 "nbformat": 4,
 "nbformat_minor": 5
}
